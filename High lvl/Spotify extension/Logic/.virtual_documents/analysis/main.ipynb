import spotipy
from spotipy.oauth2 import SpotifyClientCredentials



# Replace with your Spotify credentials
CLIENT_ID = ''
CLIENT_SECRET = 'your_client_secret'

# Authenticate
client_credentials_manager = SpotifyClientCredentials(client_id=CLIENT_ID, client_secret=CLIENT_SECRET)
sp = spotipy.Spotify(client_credentials_manager=client_credentials_manager)


