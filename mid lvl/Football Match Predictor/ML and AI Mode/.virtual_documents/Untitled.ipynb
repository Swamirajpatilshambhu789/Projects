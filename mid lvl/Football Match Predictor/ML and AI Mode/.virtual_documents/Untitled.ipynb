import pandas as pd


data = pd.read_excel("Football.xlsx")


data



